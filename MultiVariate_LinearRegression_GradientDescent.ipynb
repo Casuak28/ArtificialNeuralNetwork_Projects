{
 "cells": [
  {
   "cell_type": "code",
   "execution_count": 1,
   "id": "9e2a9047",
   "metadata": {},
   "outputs": [],
   "source": [
    "#======================================================#\n",
    "#     LAB 4 - MultiVariate Linear Regression using GD  #\n",
    "#     Author: SHIKHAR ASTHANA                          #\n",
    "#     Roll No. : 2K22/AFI/24                           #\n",
    "#     Subject: ANN Lab (Anil Singh Parihar Sir)        #\n",
    "#======================================================#"
   ]
  },
  {
   "cell_type": "code",
   "execution_count": 3,
   "id": "e270c01c",
   "metadata": {},
   "outputs": [],
   "source": [
    "#importing the required libraries\n",
    "import pandas as pd\n",
    "import numpy as np\n",
    "import matplotlib.pyplot as plt"
   ]
  },
  {
   "cell_type": "code",
   "execution_count": 4,
   "id": "faf04562",
   "metadata": {},
   "outputs": [
    {
     "data": {
      "text/html": [
       "<div>\n",
       "<style scoped>\n",
       "    .dataframe tbody tr th:only-of-type {\n",
       "        vertical-align: middle;\n",
       "    }\n",
       "\n",
       "    .dataframe tbody tr th {\n",
       "        vertical-align: top;\n",
       "    }\n",
       "\n",
       "    .dataframe thead th {\n",
       "        text-align: right;\n",
       "    }\n",
       "</style>\n",
       "<table border=\"1\" class=\"dataframe\">\n",
       "  <thead>\n",
       "    <tr style=\"text-align: right;\">\n",
       "      <th></th>\n",
       "      <th>TV</th>\n",
       "      <th>Radio</th>\n",
       "      <th>Newspaper</th>\n",
       "      <th>Sales</th>\n",
       "    </tr>\n",
       "  </thead>\n",
       "  <tbody>\n",
       "    <tr>\n",
       "      <th>0</th>\n",
       "      <td>230.1</td>\n",
       "      <td>37.8</td>\n",
       "      <td>69.2</td>\n",
       "      <td>22.1</td>\n",
       "    </tr>\n",
       "    <tr>\n",
       "      <th>1</th>\n",
       "      <td>44.5</td>\n",
       "      <td>39.3</td>\n",
       "      <td>45.1</td>\n",
       "      <td>10.4</td>\n",
       "    </tr>\n",
       "    <tr>\n",
       "      <th>2</th>\n",
       "      <td>17.2</td>\n",
       "      <td>45.9</td>\n",
       "      <td>69.3</td>\n",
       "      <td>12.0</td>\n",
       "    </tr>\n",
       "    <tr>\n",
       "      <th>3</th>\n",
       "      <td>151.5</td>\n",
       "      <td>41.3</td>\n",
       "      <td>58.5</td>\n",
       "      <td>16.5</td>\n",
       "    </tr>\n",
       "    <tr>\n",
       "      <th>4</th>\n",
       "      <td>180.8</td>\n",
       "      <td>10.8</td>\n",
       "      <td>58.4</td>\n",
       "      <td>17.9</td>\n",
       "    </tr>\n",
       "  </tbody>\n",
       "</table>\n",
       "</div>"
      ],
      "text/plain": [
       "      TV  Radio  Newspaper  Sales\n",
       "0  230.1   37.8       69.2   22.1\n",
       "1   44.5   39.3       45.1   10.4\n",
       "2   17.2   45.9       69.3   12.0\n",
       "3  151.5   41.3       58.5   16.5\n",
       "4  180.8   10.8       58.4   17.9"
      ]
     },
     "execution_count": 4,
     "metadata": {},
     "output_type": "execute_result"
    }
   ],
   "source": [
    "#importing the dataset\n",
    "dataset = pd.read_csv(\"advertising.csv\")\n",
    "dataset.head()"
   ]
  },
  {
   "cell_type": "code",
   "execution_count": 5,
   "id": "70a77b82",
   "metadata": {},
   "outputs": [
    {
     "data": {
      "text/plain": [
       "(200, 4)"
      ]
     },
     "execution_count": 5,
     "metadata": {},
     "output_type": "execute_result"
    }
   ],
   "source": [
    "dataset.shape"
   ]
  },
  {
   "cell_type": "code",
   "execution_count": 6,
   "id": "f651ae7f",
   "metadata": {},
   "outputs": [
    {
     "data": {
      "text/plain": [
       "Index(['TV', 'Radio', 'Newspaper', 'Sales'], dtype='object')"
      ]
     },
     "execution_count": 6,
     "metadata": {},
     "output_type": "execute_result"
    }
   ],
   "source": [
    "dataset.columns"
   ]
  },
  {
   "cell_type": "code",
   "execution_count": 11,
   "id": "cabe877d",
   "metadata": {},
   "outputs": [],
   "source": [
    "#keeping only the first column and target column\n",
    "\n",
    "reg_data = dataset.copy()\n",
    "\n",
    "#Separating the columns based on independent and dependent variable.\n",
    "x = reg_data[['TV', 'Radio', 'Newspaper']]\n",
    "y = reg_data['Sales']"
   ]
  },
  {
   "cell_type": "code",
   "execution_count": 13,
   "id": "4dc153f1",
   "metadata": {},
   "outputs": [],
   "source": [
    "#Applying standardisation to the independent variable\n",
    "x = (x - x.mean()) / x.std()\n",
    "\n",
    "#adding a column of ones to signify the bias to be added when we do dot product with theta vector \n",
    "x = np.c_[np.ones(x.shape[0]), x] "
   ]
  },
  {
   "cell_type": "code",
   "execution_count": 14,
   "id": "95bd3e9e",
   "metadata": {},
   "outputs": [
    {
     "data": {
      "text/plain": [
       "array([[ 1.        ,  0.9674246 ,  0.97906559,  1.77449253],\n",
       "       [ 1.        , -1.19437904,  1.0800974 ,  0.66790272],\n",
       "       [ 1.        , -1.51235985,  1.52463736,  1.77908419],\n",
       "       [ 1.        ,  0.05191939,  1.21480648,  1.28318502],\n",
       "       [ 1.        ,  0.39319551, -0.83950698,  1.27859336]])"
      ]
     },
     "execution_count": 14,
     "metadata": {},
     "output_type": "execute_result"
    }
   ],
   "source": [
    "x[:5]"
   ]
  },
  {
   "cell_type": "code",
   "execution_count": 17,
   "id": "5061e695",
   "metadata": {},
   "outputs": [],
   "source": [
    "#Starting the gradient descent\n",
    "\n",
    "#Setting the learning rate\n",
    "alpha = 0.01\n",
    "\n",
    "#Setting the number of iterations\n",
    "iterations = 2000\n",
    "\n",
    "#Finding number of points available in the dataset - 200\n",
    "m = y.size\n",
    "\n",
    "#Setting seed so that our values can be replicated\n",
    "np.random.seed(123)\n",
    "#Assigning random values as the start to our gradient descent\n",
    "theta = np.random.rand(x.shape[1])"
   ]
  },
  {
   "cell_type": "code",
   "execution_count": 18,
   "id": "2bc8025b",
   "metadata": {},
   "outputs": [
    {
     "data": {
      "text/plain": [
       "array([0.69646919, 0.28613933, 0.22685145, 0.55131477])"
      ]
     },
     "execution_count": 18,
     "metadata": {},
     "output_type": "execute_result"
    }
   ],
   "source": [
    "theta"
   ]
  },
  {
   "cell_type": "code",
   "execution_count": 19,
   "id": "19ac4eb9",
   "metadata": {},
   "outputs": [],
   "source": [
    "#Defining a function which apply gradient descent for the specified iterations and \n",
    "#Calculate the final theta values \n",
    "def gradient_descent(x, y, theta, iterations, alpha):\n",
    "    \n",
    "    #Creating past records to help us plot the graph later on and evaluate the performance of our algo\n",
    "    past_costs = []\n",
    "    past_thetas = [theta]\n",
    "    \n",
    "    #Actual loop to calculate predictions, then errors and cost, then gradients and finally update the thetas/weights\n",
    "    for i in range(iterations):\n",
    "        prediction = np.dot(x, theta)\n",
    "        error = prediction - y\n",
    "        cost = 1/(2*m) * np.dot(error.T, error)\n",
    "        past_costs.append(cost)\n",
    "        theta = theta - (alpha * (1/m) * np.dot(x.T, error))\n",
    "        past_thetas.append(theta)\n",
    "        \n",
    "    return past_thetas, past_costs"
   ]
  },
  {
   "cell_type": "code",
   "execution_count": 20,
   "id": "1944e822",
   "metadata": {},
   "outputs": [],
   "source": [
    "#Actually running the above function on our dataset\n",
    "past_thetas, past_costs = gradient_descent(x, y, theta, iterations, alpha)\n",
    "theta = past_thetas[-1]"
   ]
  },
  {
   "cell_type": "code",
   "execution_count": 26,
   "id": "8a1c0f2a",
   "metadata": {},
   "outputs": [
    {
     "name": "stdout",
     "output_type": "stream",
     "text": [
      " Gradient Descent: 15.13, 4.67, 1.59, 0.01\n"
     ]
    }
   ],
   "source": [
    "#Final values of our thetas \n",
    "print(f\" Gradient Descent: {round(theta[0],2)}, {round(theta[1],2)}, {round(theta[2],2)}, {round(theta[3],2)}\")"
   ]
  },
  {
   "cell_type": "code",
   "execution_count": 27,
   "id": "4ae45718",
   "metadata": {},
   "outputs": [
    {
     "data": {
      "image/png": "[encoded data removed]",
      "text/plain": [
       "<Figure size 432x288 with 1 Axes>"
      ]
     },
     "metadata": {
      "needs_background": "light"
     },
     "output_type": "display_data"
    }
   ],
   "source": [
    "#Plot the cost function...\n",
    "plt.plot(past_costs)\n",
    "plt.title('Cost Function J')\n",
    "plt.xlabel('No. of iterations')\n",
    "plt.ylabel('Cost')\n",
    "plt.show()"
   ]
  },
  {
   "cell_type": "code",
   "execution_count": 32,
   "id": "bacf774f",
   "metadata": {},
   "outputs": [
    {
     "name": "stdout",
     "output_type": "stream",
     "text": [
      "1.3530030738174765\n"
     ]
    }
   ],
   "source": [
    "print(past_costs[-1])"
   ]
  },
  {
   "cell_type": "code",
   "execution_count": 23,
   "id": "89e6425e",
   "metadata": {},
   "outputs": [
    {
     "data": {
      "image/png": "[encoded data removed]",
      "text/plain": [
       "<Figure size 432x288 with 1 Axes>"
      ]
     },
     "metadata": {
      "needs_background": "light"
     },
     "output_type": "display_data"
    }
   ],
   "source": [
    "#plot to show final linear regression line\n",
    "prediction = np.dot(x, theta)\n",
    "plt.scatter(x[:,1],y)\n",
    "plt.plot(x[:,1],prediction,color=\"red\")\n",
    "plt.show()"
   ]
  },
  {
   "cell_type": "code",
   "execution_count": null,
   "id": "fd773473",
   "metadata": {},
   "outputs": [],
   "source": []
  }
 ],
 "metadata": {
  "kernelspec": {
   "display_name": "Python 3",
   "language": "python",
   "name": "python3"
  },
  "language_info": {
   "codemirror_mode": {
    "name": "ipython",
    "version": 3
   },
   "file_extension": ".py",
   "mimetype": "text/x-python",
   "name": "python",
   "nbconvert_exporter": "python",
   "pygments_lexer": "ipython3",
   "version": "3.6.15"
  }
 },
 "nbformat": 4,
 "nbformat_minor": 5
}
