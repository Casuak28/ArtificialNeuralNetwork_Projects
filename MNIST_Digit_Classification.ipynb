{
 "cells": [
  {
   "cell_type": "code",
   "execution_count": 1,
   "id": "f960fe29",
   "metadata": {},
   "outputs": [],
   "source": [
    "#======================================================#\n",
    "#     LAB 8-Classification MNIST using Neural Network  #\n",
    "#     Author: SHIKHAR ASTHANA                          #\n",
    "#     Roll No. : 2K22/AFI/24                           #\n",
    "#     Subject: ANN Lab (Anil Singh Parihar Sir)        #\n",
    "#======================================================#"
   ]
  },
  {
   "cell_type": "code",
   "execution_count": 2,
   "id": "70e21155",
   "metadata": {},
   "outputs": [],
   "source": [
    "#Import the header files\n",
    "import tensorflow as tf\n",
    "from tensorflow import keras\n",
    "from sklearn.model_selection import train_test_split\n",
    "from sklearn.preprocessing import StandardScaler\n",
    "from tensorflow.keras.datasets import mnist"
   ]
  },
  {
   "cell_type": "code",
   "execution_count": 3,
   "id": "b0535cf7",
   "metadata": {},
   "outputs": [],
   "source": [
    "#Checking if GPU is compatible\n",
    "physical_devices = tf.config.list_physical_devices('GPU')\n",
    "tf.config.experimental.set_memory_growth(physical_devices[0], True)"
   ]
  },
  {
   "cell_type": "code",
   "execution_count": 4,
   "id": "63f1bc96",
   "metadata": {},
   "outputs": [],
   "source": [
    "#Loading MNIST Digit Dataset\n",
    "(X_train_full, y_train_full), (X_test, y_test) = mnist.load_data()\n",
    "X_train, X_val, y_train, y_val = train_test_split(X_train_full, y_train_full, test_size=0.2, random_state=42)"
   ]
  },
  {
   "cell_type": "code",
   "execution_count": 5,
   "id": "fbaf4cbf",
   "metadata": {},
   "outputs": [],
   "source": [
    "#Reshaping data so that evry pixel value can be fed into the model\n",
    "X_train = X_train.reshape(X_train.shape[0], 784)\n",
    "X_val = X_val.reshape(X_val.shape[0], 784)\n",
    "X_test = X_test.reshape(X_test.shape[0], 784)"
   ]
  },
  {
   "cell_type": "code",
   "execution_count": 6,
   "id": "86f19240",
   "metadata": {},
   "outputs": [],
   "source": [
    "#Scaling the pixel values\n",
    "scaler = StandardScaler()\n",
    "X_train = scaler.fit_transform(X_train)\n",
    "X_val = scaler.transform(X_val)\n",
    "X_test = scaler.transform(X_test)"
   ]
  },
  {
   "cell_type": "code",
   "execution_count": 7,
   "id": "82e24dd8",
   "metadata": {},
   "outputs": [],
   "source": [
    "#Building the model\n",
    "#Currently only 1 hidden layer\n",
    "model = keras.Sequential([\n",
    "    keras.layers.Dense(128, activation='relu', input_shape=(784,)),\n",
    "    keras.layers.Dropout(0.2),\n",
    "    keras.layers.Dense(10, activation='softmax')\n",
    "])"
   ]
  },
  {
   "cell_type": "code",
   "execution_count": 8,
   "id": "5393227c",
   "metadata": {},
   "outputs": [
    {
     "name": "stdout",
     "output_type": "stream",
     "text": [
      "Model: \"sequential\"\n",
      "_________________________________________________________________\n",
      "Layer (type)                 Output Shape              Param #   \n",
      "=================================================================\n",
      "dense (Dense)                (None, 128)               100480    \n",
      "_________________________________________________________________\n",
      "dropout (Dropout)            (None, 128)               0         \n",
      "_________________________________________________________________\n",
      "dense_1 (Dense)              (None, 10)                1290      \n",
      "=================================================================\n",
      "Total params: 101,770\n",
      "Trainable params: 101,770\n",
      "Non-trainable params: 0\n",
      "_________________________________________________________________\n"
     ]
    }
   ],
   "source": [
    "model.summary()"
   ]
  },
  {
   "cell_type": "code",
   "execution_count": 9,
   "id": "60ab232d",
   "metadata": {},
   "outputs": [],
   "source": [
    "model.compile(loss='sparse_categorical_crossentropy', optimizer='adam', metrics=['accuracy'])"
   ]
  },
  {
   "cell_type": "code",
   "execution_count": 10,
   "id": "6b10239f",
   "metadata": {},
   "outputs": [
    {
     "name": "stdout",
     "output_type": "stream",
     "text": [
      "Train on 48000 samples, validate on 12000 samples\n",
      "Epoch 1/10\n",
      "48000/48000 [==============================] - 85s 2ms/sample - loss: 0.3116 - accuracy: 0.9125 - val_loss: 0.2300 - val_accuracy: 0.9514\n",
      "Epoch 2/10\n",
      "48000/48000 [==============================] - 2s 50us/sample - loss: 0.1759 - accuracy: 0.9522 - val_loss: 0.2219 - val_accuracy: 0.9571\n",
      "Epoch 3/10\n",
      "48000/48000 [==============================] - 2s 49us/sample - loss: 0.1314 - accuracy: 0.9621 - val_loss: 0.2143 - val_accuracy: 0.9652\n",
      "Epoch 4/10\n",
      "48000/48000 [==============================] - 2s 49us/sample - loss: 0.1155 - accuracy: 0.9666 - val_loss: 0.2018 - val_accuracy: 0.9662\n",
      "Epoch 5/10\n",
      "48000/48000 [==============================] - 2s 48us/sample - loss: 0.0947 - accuracy: 0.9713 - val_loss: 0.2050 - val_accuracy: 0.9703\n",
      "Epoch 6/10\n",
      "48000/48000 [==============================] - 3s 52us/sample - loss: 0.0855 - accuracy: 0.9742 - val_loss: 0.2848 - val_accuracy: 0.9626\n",
      "Epoch 7/10\n",
      "48000/48000 [==============================] - 2s 49us/sample - loss: 0.0760 - accuracy: 0.9760 - val_loss: 0.3622 - val_accuracy: 0.9663\n",
      "Epoch 8/10\n",
      "48000/48000 [==============================] - 2s 48us/sample - loss: 0.0677 - accuracy: 0.9787 - val_loss: 0.3407 - val_accuracy: 0.9699\n",
      "Epoch 9/10\n",
      "48000/48000 [==============================] - 2s 49us/sample - loss: 0.0791 - accuracy: 0.9793 - val_loss: 0.3061 - val_accuracy: 0.9647\n",
      "Epoch 10/10\n",
      "48000/48000 [==============================] - 2s 51us/sample - loss: 0.0686 - accuracy: 0.9797 - val_loss: 0.3045 - val_accuracy: 0.9711\n",
      "10000/10000 [==============================] - 0s 43us/sample - loss: 0.1843 - accuracy: 0.9708\n",
      "Test accuracy: 0.9708\n"
     ]
    }
   ],
   "source": [
    "history = model.fit(X_train, y_train, epochs=10, batch_size=32, validation_data=(X_val, y_val))\n",
    "\n",
    "test_loss, test_acc = model.evaluate(X_test, y_test)\n",
    "print('Test accuracy:', test_acc)"
   ]
  },
  {
   "cell_type": "code",
   "execution_count": 11,
   "id": "8bb5699c",
   "metadata": {},
   "outputs": [
    {
     "data": {
      "image/png": "[encoded data removed]",
      "text/plain": [
       "<Figure size 432x288 with 1 Axes>"
      ]
     },
     "metadata": {
      "needs_background": "light"
     },
     "output_type": "display_data"
    }
   ],
   "source": [
    "# Plot training history\n",
    "import matplotlib.pyplot as plt\n",
    "\n",
    "plt.plot(history.history['accuracy'])\n",
    "plt.plot(history.history['val_accuracy'])\n",
    "plt.title('Model accuracy')\n",
    "plt.ylabel('Accuracy')\n",
    "plt.xlabel('Epoch')\n",
    "plt.legend(['Train', 'Validation'], loc='upper left')\n",
    "plt.show()"
   ]
  },
  {
   "cell_type": "code",
   "execution_count": null,
   "id": "1b851675",
   "metadata": {},
   "outputs": [],
   "source": []
  }
 ],
 "metadata": {
  "kernelspec": {
   "display_name": "Python 3",
   "language": "python",
   "name": "python3"
  },
  "language_info": {
   "codemirror_mode": {
    "name": "ipython",
    "version": 3
   },
   "file_extension": ".py",
   "mimetype": "text/x-python",
   "name": "python",
   "nbconvert_exporter": "python",
   "pygments_lexer": "ipython3",
   "version": "3.6.15"
  }
 },
 "nbformat": 4,
 "nbformat_minor": 5
}
