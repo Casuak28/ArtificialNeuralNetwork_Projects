{
 "cells": [
  {
   "cell_type": "code",
   "execution_count": 1,
   "id": "1cb8ae75",
   "metadata": {},
   "outputs": [],
   "source": [
    "#======================================================#\n",
    "#     LAB 6 - Implement Basic Perceptron Model         #\n",
    "#     Author: SHIKHAR ASTHANA                          #\n",
    "#     Roll No. : 2K22/AFI/24                           #\n",
    "#     Subject: ANN Lab (Anil Singh Parihar Sir)        #\n",
    "#======================================================#"
   ]
  },
  {
   "cell_type": "code",
   "execution_count": 2,
   "id": "cb59e3a2",
   "metadata": {},
   "outputs": [],
   "source": [
    "#Importing header files\n",
    "import pandas as pd\n",
    "import numpy as np"
   ]
  },
  {
   "cell_type": "code",
   "execution_count": 3,
   "id": "32243ecd",
   "metadata": {},
   "outputs": [],
   "source": [
    "#For input, I will make a dataframe for OR Gate\n",
    "#This can be changed to AND or any other linearly separable combination of inputs\n",
    "input_data = pd.DataFrame({\n",
    "    'x1': [0, 0, 1, 1],\n",
    "    'x2': [0, 1, 0, 1],\n",
    "    'y': [0, 1, 1, 1]\n",
    "})"
   ]
  },
  {
   "cell_type": "code",
   "execution_count": 4,
   "id": "32c9caba",
   "metadata": {},
   "outputs": [],
   "source": [
    "#Defining the function for the perceptron\n",
    "def perceptron(inputs, weights):\n",
    "    # calculate the weighted sum of the inputs and weights\n",
    "    weighted_sum = np.dot(inputs, weights)\n",
    "    \n",
    "    # apply the step function to the weighted sum\n",
    "    if weighted_sum > 0:\n",
    "        return 1\n",
    "    else:\n",
    "        return 0"
   ]
  },
  {
   "cell_type": "code",
   "execution_count": 5,
   "id": "9fbd01a3",
   "metadata": {},
   "outputs": [],
   "source": [
    "# set the learning rate and maximum number of iterations\n",
    "learning_rate = 0.1\n",
    "max_iterations = 100\n",
    "\n",
    "# randomly initialize the weights\n",
    "weights = np.random.uniform(size=3)\n",
    "\n",
    "# iterate through the data and update the weights\n",
    "for i in range(max_iterations):\n",
    "    # iterate through each row in the input data\n",
    "    for index, row in input_data.iterrows():\n",
    "        # extract the inputs and output for this row\n",
    "        inputs = row[['x1', 'x2']]\n",
    "        expected_output = row['y']\n",
    "        \n",
    "        # add a bias term to the inputs\n",
    "        inputs_with_bias = np.append(inputs, 1)\n",
    "        \n",
    "        # calculate the predicted output using the perceptron function\n",
    "        predicted_output = perceptron(inputs_with_bias, weights)\n",
    "        \n",
    "        # calculate the error and update the weights\n",
    "        error = expected_output - predicted_output\n",
    "        weights += learning_rate * error * inputs_with_bias\n",
    "        \n",
    "        # check if the model has converged\n",
    "        if error == 0:\n",
    "            break"
   ]
  },
  {
   "cell_type": "code",
   "execution_count": 6,
   "id": "82affa0b",
   "metadata": {},
   "outputs": [
    {
     "name": "stdout",
     "output_type": "stream",
     "text": [
      "[ 0.23507456  0.53046904 -0.00477351]\n"
     ]
    }
   ],
   "source": [
    "#Checking final weights\n",
    "print(weights)"
   ]
  },
  {
   "cell_type": "code",
   "execution_count": 7,
   "id": "6bd96291",
   "metadata": {},
   "outputs": [
    {
     "name": "stdout",
     "output_type": "stream",
     "text": [
      "1\n"
     ]
    }
   ],
   "source": [
    "# create a new input with values [1, 1]\n",
    "new_input = np.array([1, 1, 1])\n",
    "\n",
    "# predict the output using the perceptron\n",
    "predicted_output = perceptron(new_input, weights)\n",
    "\n",
    "print(predicted_output)  # should output 1"
   ]
  },
  {
   "cell_type": "code",
   "execution_count": null,
   "id": "a6918ddf",
   "metadata": {},
   "outputs": [],
   "source": []
  }
 ],
 "metadata": {
  "kernelspec": {
   "display_name": "Python 3",
   "language": "python",
   "name": "python3"
  },
  "language_info": {
   "codemirror_mode": {
    "name": "ipython",
    "version": 3
   },
   "file_extension": ".py",
   "mimetype": "text/x-python",
   "name": "python",
   "nbconvert_exporter": "python",
   "pygments_lexer": "ipython3",
   "version": "3.6.15"
  }
 },
 "nbformat": 4,
 "nbformat_minor": 5
}
