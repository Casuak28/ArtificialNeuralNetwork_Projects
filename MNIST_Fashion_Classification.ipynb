{
 "cells": [
  {
   "cell_type": "code",
   "execution_count": 1,
   "id": "f960fe29",
   "metadata": {},
   "outputs": [],
   "source": [
    "#======================================================#\n",
    "#     LAB 9 - MNIST Fashion using Neural Network       #\n",
    "#     Author: SHIKHAR ASTHANA                          #\n",
    "#     Roll No. : 2K22/AFI/24                           #\n",
    "#     Subject: ANN Lab (Anil Singh Parihar Sir)        #\n",
    "#======================================================#"
   ]
  },
  {
   "cell_type": "code",
   "execution_count": 2,
   "id": "70e21155",
   "metadata": {},
   "outputs": [],
   "source": [
    "#Import the header files\n",
    "import tensorflow as tf\n",
    "from tensorflow import keras\n",
    "from sklearn.model_selection import train_test_split\n",
    "from sklearn.preprocessing import StandardScaler\n",
    "from tensorflow.keras.datasets import mnist"
   ]
  },
  {
   "cell_type": "code",
   "execution_count": 3,
   "id": "b0535cf7",
   "metadata": {},
   "outputs": [],
   "source": [
    "#Checking if GPU is compatible\n",
    "physical_devices = tf.config.list_physical_devices('GPU')\n",
    "tf.config.experimental.set_memory_growth(physical_devices[0], True)"
   ]
  },
  {
   "cell_type": "code",
   "execution_count": 4,
   "id": "63f1bc96",
   "metadata": {},
   "outputs": [
    {
     "name": "stdout",
     "output_type": "stream",
     "text": [
      "Downloading data from https://storage.googleapis.com/tensorflow/tf-keras-datasets/train-labels-idx1-ubyte.gz\n",
      "ERROR! Session/line number was not unique in database. History logging moved to new session 135\n",
      "32768/29515 [=================================] - 0s 1us/step\n",
      "Downloading data from https://storage.googleapis.com/tensorflow/tf-keras-datasets/train-images-idx3-ubyte.gz\n",
      "26427392/26421880 [==============================] - 4s 0us/step\n",
      "Downloading data from https://storage.googleapis.com/tensorflow/tf-keras-datasets/t10k-labels-idx1-ubyte.gz\n",
      "8192/5148 [===============================================] - 0s 0us/step\n",
      "Downloading data from https://storage.googleapis.com/tensorflow/tf-keras-datasets/t10k-images-idx3-ubyte.gz\n",
      "4423680/4422102 [==============================] - 0s 0us/step\n"
     ]
    }
   ],
   "source": [
    "#Loading MNIST Digit Dataset\n",
    "(X_train_full, y_train_full), (X_test, y_test) = tf.keras.datasets.fashion_mnist.load_data()\n",
    "X_train, X_val, y_train, y_val = train_test_split(X_train_full, y_train_full, test_size=0.2, random_state=42)"
   ]
  },
  {
   "cell_type": "code",
   "execution_count": 5,
   "id": "fbaf4cbf",
   "metadata": {},
   "outputs": [],
   "source": [
    "#Reshaping data so that evry pixel value can be fed into the model\n",
    "X_train = X_train.reshape(X_train.shape[0], 784)\n",
    "X_val = X_val.reshape(X_val.shape[0], 784)\n",
    "X_test = X_test.reshape(X_test.shape[0], 784)"
   ]
  },
  {
   "cell_type": "code",
   "execution_count": 6,
   "id": "86f19240",
   "metadata": {},
   "outputs": [],
   "source": [
    "#Scaling the pixel values\n",
    "scaler = StandardScaler()\n",
    "X_train = scaler.fit_transform(X_train)\n",
    "X_val = scaler.transform(X_val)\n",
    "X_test = scaler.transform(X_test)"
   ]
  },
  {
   "cell_type": "code",
   "execution_count": 7,
   "id": "82e24dd8",
   "metadata": {},
   "outputs": [],
   "source": [
    "#Building the model\n",
    "#Currently only 3 hidden layer\n",
    "model = keras.Sequential([\n",
    "    keras.layers.Dense(128, activation='relu', input_shape=(784,)),\n",
    "    keras.layers.Dense(64, activation='relu'),\n",
    "    keras.layers.Dense(32, activation='relu'),\n",
    "    keras.layers.Dropout(0.2),\n",
    "    keras.layers.Dense(10, activation='softmax')\n",
    "])"
   ]
  },
  {
   "cell_type": "code",
   "execution_count": 8,
   "id": "5393227c",
   "metadata": {},
   "outputs": [
    {
     "name": "stdout",
     "output_type": "stream",
     "text": [
      "Model: \"sequential\"\n",
      "_________________________________________________________________\n",
      "Layer (type)                 Output Shape              Param #   \n",
      "=================================================================\n",
      "dense (Dense)                (None, 128)               100480    \n",
      "_________________________________________________________________\n",
      "dense_1 (Dense)              (None, 64)                8256      \n",
      "_________________________________________________________________\n",
      "dense_2 (Dense)              (None, 32)                2080      \n",
      "_________________________________________________________________\n",
      "dropout (Dropout)            (None, 32)                0         \n",
      "_________________________________________________________________\n",
      "dense_3 (Dense)              (None, 10)                330       \n",
      "=================================================================\n",
      "Total params: 111,146\n",
      "Trainable params: 111,146\n",
      "Non-trainable params: 0\n",
      "_________________________________________________________________\n"
     ]
    }
   ],
   "source": [
    "model.summary()"
   ]
  },
  {
   "cell_type": "code",
   "execution_count": 9,
   "id": "60ab232d",
   "metadata": {},
   "outputs": [],
   "source": [
    "model.compile(loss='sparse_categorical_crossentropy', optimizer='adam', metrics=['accuracy'])"
   ]
  },
  {
   "cell_type": "code",
   "execution_count": 10,
   "id": "6b10239f",
   "metadata": {},
   "outputs": [
    {
     "name": "stdout",
     "output_type": "stream",
     "text": [
      "Train on 48000 samples, validate on 12000 samples\n",
      "Epoch 1/20\n",
      "48000/48000 [==============================] - 100s 2ms/sample - loss: 0.5328 - accuracy: 0.8128 - val_loss: 0.3998 - val_accuracy: 0.8543\n",
      "Epoch 2/20\n",
      "48000/48000 [==============================] - 5s 112us/sample - loss: 0.3876 - accuracy: 0.8622 - val_loss: 0.3563 - val_accuracy: 0.8705\n",
      "Epoch 3/20\n",
      "48000/48000 [==============================] - 5s 113us/sample - loss: 0.3480 - accuracy: 0.8744 - val_loss: 0.3567 - val_accuracy: 0.8730\n",
      "Epoch 4/20\n",
      "48000/48000 [==============================] - 6s 115us/sample - loss: 0.3237 - accuracy: 0.8824 - val_loss: 0.3576 - val_accuracy: 0.8732\n",
      "Epoch 5/20\n",
      "48000/48000 [==============================] - 6s 116us/sample - loss: 0.3001 - accuracy: 0.8897 - val_loss: 0.3425 - val_accuracy: 0.8804\n",
      "Epoch 6/20\n",
      "48000/48000 [==============================] - 5s 113us/sample - loss: 0.2811 - accuracy: 0.8969 - val_loss: 0.3378 - val_accuracy: 0.8860\n",
      "Epoch 7/20\n",
      "48000/48000 [==============================] - 6s 115us/sample - loss: 0.2713 - accuracy: 0.9001 - val_loss: 0.3554 - val_accuracy: 0.8780\n",
      "Epoch 8/20\n",
      "48000/48000 [==============================] - 6s 116us/sample - loss: 0.2540 - accuracy: 0.9065 - val_loss: 0.3341 - val_accuracy: 0.8840\n",
      "Epoch 9/20\n",
      "48000/48000 [==============================] - 5s 114us/sample - loss: 0.2433 - accuracy: 0.9107 - val_loss: 0.3656 - val_accuracy: 0.8814\n",
      "Epoch 10/20\n",
      "48000/48000 [==============================] - 5s 111us/sample - loss: 0.2340 - accuracy: 0.9134 - val_loss: 0.3557 - val_accuracy: 0.8833\n",
      "Epoch 11/20\n",
      "48000/48000 [==============================] - 6s 118us/sample - loss: 0.2229 - accuracy: 0.9165 - val_loss: 0.3575 - val_accuracy: 0.8856\n",
      "Epoch 12/20\n",
      "48000/48000 [==============================] - 6s 122us/sample - loss: 0.2145 - accuracy: 0.9193 - val_loss: 0.3443 - val_accuracy: 0.8899\n",
      "Epoch 13/20\n",
      "48000/48000 [==============================] - 6s 116us/sample - loss: 0.2079 - accuracy: 0.9219 - val_loss: 0.3876 - val_accuracy: 0.8885\n",
      "Epoch 14/20\n",
      "48000/48000 [==============================] - 6s 116us/sample - loss: 0.2022 - accuracy: 0.9256 - val_loss: 0.3645 - val_accuracy: 0.8903\n",
      "Epoch 15/20\n",
      "48000/48000 [==============================] - 6s 117us/sample - loss: 0.1889 - accuracy: 0.9300 - val_loss: 0.4088 - val_accuracy: 0.8838\n",
      "Epoch 16/20\n",
      "48000/48000 [==============================] - 5s 114us/sample - loss: 0.1834 - accuracy: 0.9313 - val_loss: 0.3853 - val_accuracy: 0.8854\n",
      "Epoch 17/20\n",
      "48000/48000 [==============================] - 5s 115us/sample - loss: 0.1789 - accuracy: 0.9331 - val_loss: 0.3819 - val_accuracy: 0.8910\n",
      "Epoch 18/20\n",
      "48000/48000 [==============================] - 5s 115us/sample - loss: 0.1689 - accuracy: 0.9360 - val_loss: 0.3919 - val_accuracy: 0.8932\n",
      "Epoch 19/20\n",
      "48000/48000 [==============================] - 5s 113us/sample - loss: 0.1680 - accuracy: 0.9374 - val_loss: 0.4258 - val_accuracy: 0.8888\n",
      "Epoch 20/20\n",
      "48000/48000 [==============================] - 5s 115us/sample - loss: 0.1585 - accuracy: 0.9408 - val_loss: 0.4343 - val_accuracy: 0.8905\n",
      "10000/10000 [==============================] - 1s 86us/sample - loss: 0.4757 - accuracy: 0.8794\n",
      "Test accuracy: 0.8794\n"
     ]
    }
   ],
   "source": [
    "history = model.fit(X_train, y_train, epochs=20, batch_size=32, validation_data=(X_val, y_val))\n",
    "\n",
    "test_loss, test_acc = model.evaluate(X_test, y_test)\n",
    "print('Test accuracy:', test_acc)"
   ]
  },
  {
   "cell_type": "code",
   "execution_count": 11,
   "id": "8bb5699c",
   "metadata": {},
   "outputs": [
    {
     "data": {
      "image/png": "[encoded data removed]",
      "text/plain": [
       "<Figure size 432x288 with 1 Axes>"
      ]
     },
     "metadata": {
      "needs_background": "light"
     },
     "output_type": "display_data"
    }
   ],
   "source": [
    "# Plot training history\n",
    "import matplotlib.pyplot as plt\n",
    "\n",
    "plt.plot(history.history['accuracy'])\n",
    "plt.plot(history.history['val_accuracy'])\n",
    "plt.title('Model accuracy')\n",
    "plt.ylabel('Accuracy')\n",
    "plt.xlabel('Epoch')\n",
    "plt.legend(['Train', 'Validation'], loc='upper left')\n",
    "plt.show()"
   ]
  },
  {
   "cell_type": "code",
   "execution_count": null,
   "id": "1b851675",
   "metadata": {},
   "outputs": [],
   "source": []
  }
 ],
 "metadata": {
  "kernelspec": {
   "display_name": "Python 3",
   "language": "python",
   "name": "python3"
  },
  "language_info": {
   "codemirror_mode": {
    "name": "ipython",
    "version": 3
   },
   "file_extension": ".py",
   "mimetype": "text/x-python",
   "name": "python",
   "nbconvert_exporter": "python",
   "pygments_lexer": "ipython3",
   "version": "3.6.15"
  }
 },
 "nbformat": 4,
 "nbformat_minor": 5
}
