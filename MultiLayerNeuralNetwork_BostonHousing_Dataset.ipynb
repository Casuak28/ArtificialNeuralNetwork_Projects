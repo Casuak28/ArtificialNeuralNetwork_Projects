{
 "cells": [
  {
   "cell_type": "code",
   "execution_count": 1,
   "id": "7e25ea7b",
   "metadata": {},
   "outputs": [],
   "source": [
    "#======================================================#\n",
    "#     LAB 7 - MultiLayer Neural Network                #\n",
    "#     Author: SHIKHAR ASTHANA                          #\n",
    "#     Roll No. : 2K22/AFI/24                           #\n",
    "#     Subject: ANN Lab (Anil Singh Parihar Sir)        #\n",
    "#======================================================#"
   ]
  },
  {
   "cell_type": "code",
   "execution_count": 2,
   "id": "d83bd5a5",
   "metadata": {},
   "outputs": [],
   "source": [
    "#Importing header files\n",
    "import tensorflow as tf\n",
    "from tensorflow import keras\n",
    "from sklearn.datasets import load_boston\n",
    "from sklearn.model_selection import train_test_split\n",
    "from sklearn.preprocessing import StandardScaler\n",
    "import matplotlib.pyplot as plt"
   ]
  },
  {
   "cell_type": "code",
   "execution_count": 3,
   "id": "dcca0293",
   "metadata": {},
   "outputs": [],
   "source": [
    "#Using the shallow neural network for house price prediction\n",
    "#Using the prebuild dataset - Boston Housing Dataset\n",
    "boston = load_boston()\n",
    "X = boston.data\n",
    "y = boston.target"
   ]
  },
  {
   "cell_type": "code",
   "execution_count": 4,
   "id": "9ee3e253",
   "metadata": {},
   "outputs": [
    {
     "data": {
      "text/plain": [
       "{'data': array([[6.3200e-03, 1.8000e+01, 2.3100e+00, ..., 1.5300e+01, 3.9690e+02,\n",
       "         4.9800e+00],\n",
       "        [2.7310e-02, 0.0000e+00, 7.0700e+00, ..., 1.7800e+01, 3.9690e+02,\n",
       "         9.1400e+00],\n",
       "        [2.7290e-02, 0.0000e+00, 7.0700e+00, ..., 1.7800e+01, 3.9283e+02,\n",
       "         4.0300e+00],\n",
       "        ...,\n",
       "        [6.0760e-02, 0.0000e+00, 1.1930e+01, ..., 2.1000e+01, 3.9690e+02,\n",
       "         5.6400e+00],\n",
       "        [1.0959e-01, 0.0000e+00, 1.1930e+01, ..., 2.1000e+01, 3.9345e+02,\n",
       "         6.4800e+00],\n",
       "        [4.7410e-02, 0.0000e+00, 1.1930e+01, ..., 2.1000e+01, 3.9690e+02,\n",
       "         7.8800e+00]]),\n",
       " 'target': array([24. , 21.6, 34.7, 33.4, 36.2, 28.7, 22.9, 27.1, 16.5, 18.9, 15. ,\n",
       "        18.9, 21.7, 20.4, 18.2, 19.9, 23.1, 17.5, 20.2, 18.2, 13.6, 19.6,\n",
       "        15.2, 14.5, 15.6, 13.9, 16.6, 14.8, 18.4, 21. , 12.7, 14.5, 13.2,\n",
       "        13.1, 13.5, 18.9, 20. , 21. , 24.7, 30.8, 34.9, 26.6, 25.3, 24.7,\n",
       "        21.2, 19.3, 20. , 16.6, 14.4, 19.4, 19.7, 20.5, 25. , 23.4, 18.9,\n",
       "        35.4, 24.7, 31.6, 23.3, 19.6, 18.7, 16. , 22.2, 25. , 33. , 23.5,\n",
       "        19.4, 22. , 17.4, 20.9, 24.2, 21.7, 22.8, 23.4, 24.1, 21.4, 20. ,\n",
       "        20.8, 21.2, 20.3, 28. , 23.9, 24.8, 22.9, 23.9, 26.6, 22.5, 22.2,\n",
       "        23.6, 28.7, 22.6, 22. , 22.9, 25. , 20.6, 28.4, 21.4, 38.7, 43.8,\n",
       "        33.2, 27.5, 26.5, 18.6, 19.3, 20.1, 19.5, 19.5, 20.4, 19.8, 19.4,\n",
       "        21.7, 22.8, 18.8, 18.7, 18.5, 18.3, 21.2, 19.2, 20.4, 19.3, 22. ,\n",
       "        20.3, 20.5, 17.3, 18.8, 21.4, 15.7, 16.2, 18. , 14.3, 19.2, 19.6,\n",
       "        23. , 18.4, 15.6, 18.1, 17.4, 17.1, 13.3, 17.8, 14. , 14.4, 13.4,\n",
       "        15.6, 11.8, 13.8, 15.6, 14.6, 17.8, 15.4, 21.5, 19.6, 15.3, 19.4,\n",
       "        17. , 15.6, 13.1, 41.3, 24.3, 23.3, 27. , 50. , 50. , 50. , 22.7,\n",
       "        25. , 50. , 23.8, 23.8, 22.3, 17.4, 19.1, 23.1, 23.6, 22.6, 29.4,\n",
       "        23.2, 24.6, 29.9, 37.2, 39.8, 36.2, 37.9, 32.5, 26.4, 29.6, 50. ,\n",
       "        32. , 29.8, 34.9, 37. , 30.5, 36.4, 31.1, 29.1, 50. , 33.3, 30.3,\n",
       "        34.6, 34.9, 32.9, 24.1, 42.3, 48.5, 50. , 22.6, 24.4, 22.5, 24.4,\n",
       "        20. , 21.7, 19.3, 22.4, 28.1, 23.7, 25. , 23.3, 28.7, 21.5, 23. ,\n",
       "        26.7, 21.7, 27.5, 30.1, 44.8, 50. , 37.6, 31.6, 46.7, 31.5, 24.3,\n",
       "        31.7, 41.7, 48.3, 29. , 24. , 25.1, 31.5, 23.7, 23.3, 22. , 20.1,\n",
       "        22.2, 23.7, 17.6, 18.5, 24.3, 20.5, 24.5, 26.2, 24.4, 24.8, 29.6,\n",
       "        42.8, 21.9, 20.9, 44. , 50. , 36. , 30.1, 33.8, 43.1, 48.8, 31. ,\n",
       "        36.5, 22.8, 30.7, 50. , 43.5, 20.7, 21.1, 25.2, 24.4, 35.2, 32.4,\n",
       "        32. , 33.2, 33.1, 29.1, 35.1, 45.4, 35.4, 46. , 50. , 32.2, 22. ,\n",
       "        20.1, 23.2, 22.3, 24.8, 28.5, 37.3, 27.9, 23.9, 21.7, 28.6, 27.1,\n",
       "        20.3, 22.5, 29. , 24.8, 22. , 26.4, 33.1, 36.1, 28.4, 33.4, 28.2,\n",
       "        22.8, 20.3, 16.1, 22.1, 19.4, 21.6, 23.8, 16.2, 17.8, 19.8, 23.1,\n",
       "        21. , 23.8, 23.1, 20.4, 18.5, 25. , 24.6, 23. , 22.2, 19.3, 22.6,\n",
       "        19.8, 17.1, 19.4, 22.2, 20.7, 21.1, 19.5, 18.5, 20.6, 19. , 18.7,\n",
       "        32.7, 16.5, 23.9, 31.2, 17.5, 17.2, 23.1, 24.5, 26.6, 22.9, 24.1,\n",
       "        18.6, 30.1, 18.2, 20.6, 17.8, 21.7, 22.7, 22.6, 25. , 19.9, 20.8,\n",
       "        16.8, 21.9, 27.5, 21.9, 23.1, 50. , 50. , 50. , 50. , 50. , 13.8,\n",
       "        13.8, 15. , 13.9, 13.3, 13.1, 10.2, 10.4, 10.9, 11.3, 12.3,  8.8,\n",
       "         7.2, 10.5,  7.4, 10.2, 11.5, 15.1, 23.2,  9.7, 13.8, 12.7, 13.1,\n",
       "        12.5,  8.5,  5. ,  6.3,  5.6,  7.2, 12.1,  8.3,  8.5,  5. , 11.9,\n",
       "        27.9, 17.2, 27.5, 15. , 17.2, 17.9, 16.3,  7. ,  7.2,  7.5, 10.4,\n",
       "         8.8,  8.4, 16.7, 14.2, 20.8, 13.4, 11.7,  8.3, 10.2, 10.9, 11. ,\n",
       "         9.5, 14.5, 14.1, 16.1, 14.3, 11.7, 13.4,  9.6,  8.7,  8.4, 12.8,\n",
       "        10.5, 17.1, 18.4, 15.4, 10.8, 11.8, 14.9, 12.6, 14.1, 13. , 13.4,\n",
       "        15.2, 16.1, 17.8, 14.9, 14.1, 12.7, 13.5, 14.9, 20. , 16.4, 17.7,\n",
       "        19.5, 20.2, 21.4, 19.9, 19. , 19.1, 19.1, 20.1, 19.9, 19.6, 23.2,\n",
       "        29.8, 13.8, 13.3, 16.7, 12. , 14.6, 21.4, 23. , 23.7, 25. , 21.8,\n",
       "        20.6, 21.2, 19.1, 20.6, 15.2,  7. ,  8.1, 13.6, 20.1, 21.8, 24.5,\n",
       "        23.1, 19.7, 18.3, 21.2, 17.5, 16.8, 22.4, 20.6, 23.9, 22. , 11.9]),\n",
       " 'feature_names': array(['CRIM', 'ZN', 'INDUS', 'CHAS', 'NOX', 'RM', 'AGE', 'DIS', 'RAD',\n",
       "        'TAX', 'PTRATIO', 'B', 'LSTAT'], dtype='<U7'),\n",
       " 'DESCR': \".. _boston_dataset:\\n\\nBoston house prices dataset\\n---------------------------\\n\\n**Data Set Characteristics:**  \\n\\n    :Number of Instances: 506 \\n\\n    :Number of Attributes: 13 numeric/categorical predictive. Median Value (attribute 14) is usually the target.\\n\\n    :Attribute Information (in order):\\n        - CRIM     per capita crime rate by town\\n        - ZN       proportion of residential land zoned for lots over 25,000 sq.ft.\\n        - INDUS    proportion of non-retail business acres per town\\n        - CHAS     Charles River dummy variable (= 1 if tract bounds river; 0 otherwise)\\n        - NOX      nitric oxides concentration (parts per 10 million)\\n        - RM       average number of rooms per dwelling\\n        - AGE      proportion of owner-occupied units built prior to 1940\\n        - DIS      weighted distances to five Boston employment centres\\n        - RAD      index of accessibility to radial highways\\n        - TAX      full-value property-tax rate per $10,000\\n        - PTRATIO  pupil-teacher ratio by town\\n        - B        1000(Bk - 0.63)^2 where Bk is the proportion of black people by town\\n        - LSTAT    % lower status of the population\\n        - MEDV     Median value of owner-occupied homes in $1000's\\n\\n    :Missing Attribute Values: None\\n\\n    :Creator: Harrison, D. and Rubinfeld, D.L.\\n\\nThis is a copy of UCI ML housing dataset.\\nhttps://archive.ics.uci.edu/ml/machine-learning-databases/housing/\\n\\n\\nThis dataset was taken from the StatLib library which is maintained at Carnegie Mellon University.\\n\\nThe Boston house-price data of Harrison, D. and Rubinfeld, D.L. 'Hedonic\\nprices and the demand for clean air', J. Environ. Economics & Management,\\nvol.5, 81-102, 1978.   Used in Belsley, Kuh & Welsch, 'Regression diagnostics\\n...', Wiley, 1980.   N.B. Various transformations are used in the table on\\npages 244-261 of the latter.\\n\\nThe Boston house-price data has been used in many machine learning papers that address regression\\nproblems.   \\n     \\n.. topic:: References\\n\\n   - Belsley, Kuh & Welsch, 'Regression diagnostics: Identifying Influential Data and Sources of Collinearity', Wiley, 1980. 244-261.\\n   - Quinlan,R. (1993). Combining Instance-Based and Model-Based Learning. In Proceedings on the Tenth International Conference of Machine Learning, 236-243, University of Massachusetts, Amherst. Morgan Kaufmann.\\n\",\n",
       " 'filename': 'C:\\\\anaconda3\\\\envs\\\\aimlpy1\\\\lib\\\\site-packages\\\\sklearn\\\\datasets\\\\data\\\\boston_house_prices.csv'}"
      ]
     },
     "execution_count": 4,
     "metadata": {},
     "output_type": "execute_result"
    },
    {
     "name": "stdout",
     "output_type": "stream",
     "text": [
      "ERROR! Session/line number was not unique in database. History logging moved to new session 127\n"
     ]
    }
   ],
   "source": [
    "boston"
   ]
  },
  {
   "cell_type": "code",
   "execution_count": 9,
   "id": "6b3652b9",
   "metadata": {},
   "outputs": [
    {
     "data": {
      "text/plain": [
       "array([6.320e-03, 1.800e+01, 2.310e+00, 0.000e+00, 5.380e-01, 6.575e+00,\n",
       "       6.520e+01, 4.090e+00, 1.000e+00, 2.960e+02, 1.530e+01, 3.969e+02,\n",
       "       4.980e+00])"
      ]
     },
     "execution_count": 9,
     "metadata": {},
     "output_type": "execute_result"
    }
   ],
   "source": [
    "X[:1][0]"
   ]
  },
  {
   "cell_type": "code",
   "execution_count": 10,
   "id": "93cba974",
   "metadata": {},
   "outputs": [
    {
     "data": {
      "text/plain": [
       "24.0"
      ]
     },
     "execution_count": 10,
     "metadata": {},
     "output_type": "execute_result"
    }
   ],
   "source": [
    "y[:1][0]"
   ]
  },
  {
   "cell_type": "code",
   "execution_count": 11,
   "id": "a77a26e9",
   "metadata": {},
   "outputs": [],
   "source": [
    "#Splitting the dataset into train test \n",
    "#Using 80 - 20 split\n",
    "X_train, X_test, y_train, y_test = train_test_split(X, y, test_size=0.2, random_state=42)"
   ]
  },
  {
   "cell_type": "code",
   "execution_count": 12,
   "id": "737c6897",
   "metadata": {},
   "outputs": [],
   "source": [
    "#Applying standardization for the datasets\n",
    "scaler = StandardScaler()\n",
    "X_train = scaler.fit_transform(X_train)\n",
    "X_test = scaler.transform(X_test)"
   ]
  },
  {
   "cell_type": "code",
   "execution_count": 13,
   "id": "93e15ec9",
   "metadata": {},
   "outputs": [],
   "source": [
    "#Building a sequential neural network model\n",
    "#Using one hidden layer containing 32 neurons\n",
    "#A ReLU activation function\n",
    "#linear activation function in the output layer, as this is a regression problem\n",
    "model = keras.Sequential([\n",
    "    keras.layers.Dense(32, activation='relu', input_shape=(X_train.shape[1],)),\n",
    "    keras.layers.Dropout(0.5),\n",
    "    keras.layers.Dense(1, activation='linear')\n",
    "])"
   ]
  },
  {
   "cell_type": "code",
   "execution_count": 14,
   "id": "bbdc8fcd",
   "metadata": {},
   "outputs": [
    {
     "name": "stdout",
     "output_type": "stream",
     "text": [
      "Model: \"sequential\"\n",
      "_________________________________________________________________\n",
      "Layer (type)                 Output Shape              Param #   \n",
      "=================================================================\n",
      "dense (Dense)                (None, 32)                448       \n",
      "_________________________________________________________________\n",
      "dropout (Dropout)            (None, 32)                0         \n",
      "_________________________________________________________________\n",
      "dense_1 (Dense)              (None, 1)                 33        \n",
      "=================================================================\n",
      "Total params: 481\n",
      "Trainable params: 481\n",
      "Non-trainable params: 0\n",
      "_________________________________________________________________\n"
     ]
    }
   ],
   "source": [
    "model.summary()"
   ]
  },
  {
   "cell_type": "code",
   "execution_count": 15,
   "id": "d4cc327c",
   "metadata": {},
   "outputs": [],
   "source": [
    "#Defining generic loss functions, optimizers and metrics to be used by our model in training\n",
    "model.compile(loss='mean_squared_error', optimizer='adam', metrics=['mean_absolute_error'])"
   ]
  },
  {
   "cell_type": "code",
   "execution_count": 16,
   "id": "fb9940fe",
   "metadata": {},
   "outputs": [
    {
     "name": "stdout",
     "output_type": "stream",
     "text": [
      "Train on 323 samples, validate on 81 samples\n",
      "Epoch 1/50\n",
      "323/323 [==============================] - 88s 271ms/sample - loss: 633.1669 - mean_absolute_error: 23.2152 - val_loss: 567.3916 - val_mean_absolute_error: 22.2601\n",
      "Epoch 2/50\n",
      "323/323 [==============================] - 0s 167us/sample - loss: 621.6893 - mean_absolute_error: 22.9114 - val_loss: 556.3381 - val_mean_absolute_error: 22.0030\n",
      "Epoch 3/50\n",
      "323/323 [==============================] - 0s 177us/sample - loss: 611.0029 - mean_absolute_error: 22.6886 - val_loss: 546.0729 - val_mean_absolute_error: 21.7605\n",
      "Epoch 4/50\n",
      "323/323 [==============================] - 0s 166us/sample - loss: 599.0236 - mean_absolute_error: 22.4035 - val_loss: 536.1155 - val_mean_absolute_error: 21.5213\n",
      "Epoch 5/50\n",
      "323/323 [==============================] - 0s 157us/sample - loss: 588.2475 - mean_absolute_error: 22.1771 - val_loss: 526.1942 - val_mean_absolute_error: 21.2761\n",
      "Epoch 6/50\n",
      "323/323 [==============================] - 0s 151us/sample - loss: 578.6178 - mean_absolute_error: 21.9280 - val_loss: 516.3048 - val_mean_absolute_error: 21.0309\n",
      "Epoch 7/50\n",
      "323/323 [==============================] - 0s 192us/sample - loss: 568.0140 - mean_absolute_error: 21.6781 - val_loss: 506.2297 - val_mean_absolute_error: 20.7802\n",
      "Epoch 8/50\n",
      "323/323 [==============================] - 0s 148us/sample - loss: 555.4247 - mean_absolute_error: 21.3910 - val_loss: 496.0129 - val_mean_absolute_error: 20.5178\n",
      "Epoch 9/50\n",
      "323/323 [==============================] - 0s 169us/sample - loss: 546.7583 - mean_absolute_error: 21.1680 - val_loss: 485.4494 - val_mean_absolute_error: 20.2435\n",
      "Epoch 10/50\n",
      "323/323 [==============================] - 0s 113us/sample - loss: 536.1981 - mean_absolute_error: 20.8326 - val_loss: 474.8753 - val_mean_absolute_error: 19.9668\n",
      "Epoch 11/50\n",
      "323/323 [==============================] - 0s 115us/sample - loss: 531.1740 - mean_absolute_error: 20.7209 - val_loss: 464.0201 - val_mean_absolute_error: 19.6865\n",
      "Epoch 12/50\n",
      "323/323 [==============================] - 0s 104us/sample - loss: 514.7452 - mean_absolute_error: 20.3204 - val_loss: 453.2407 - val_mean_absolute_error: 19.4020\n",
      "Epoch 13/50\n",
      "323/323 [==============================] - 0s 113us/sample - loss: 495.6034 - mean_absolute_error: 19.9172 - val_loss: 442.2207 - val_mean_absolute_error: 19.1022\n",
      "Epoch 14/50\n",
      "323/323 [==============================] - 0s 106us/sample - loss: 491.6631 - mean_absolute_error: 19.7539 - val_loss: 430.8179 - val_mean_absolute_error: 18.7924\n",
      "Epoch 15/50\n",
      "323/323 [==============================] - 0s 106us/sample - loss: 484.1669 - mean_absolute_error: 19.5403 - val_loss: 418.9681 - val_mean_absolute_error: 18.4650\n",
      "Epoch 16/50\n",
      "323/323 [==============================] - 0s 135us/sample - loss: 459.3853 - mean_absolute_error: 18.8917 - val_loss: 407.0712 - val_mean_absolute_error: 18.1560\n",
      "Epoch 17/50\n",
      "323/323 [==============================] - 0s 130us/sample - loss: 459.3446 - mean_absolute_error: 18.8998 - val_loss: 395.0505 - val_mean_absolute_error: 17.8496\n",
      "Epoch 18/50\n",
      "323/323 [==============================] - 0s 112us/sample - loss: 447.7517 - mean_absolute_error: 18.6476 - val_loss: 382.9400 - val_mean_absolute_error: 17.5425\n",
      "Epoch 19/50\n",
      "323/323 [==============================] - 0s 111us/sample - loss: 422.0197 - mean_absolute_error: 18.0301 - val_loss: 370.8721 - val_mean_absolute_error: 17.2395\n",
      "Epoch 20/50\n",
      "323/323 [==============================] - 0s 119us/sample - loss: 407.2894 - mean_absolute_error: 17.6851 - val_loss: 358.2431 - val_mean_absolute_error: 16.9160\n",
      "Epoch 21/50\n",
      "323/323 [==============================] - 0s 128us/sample - loss: 404.3862 - mean_absolute_error: 17.5114 - val_loss: 345.0945 - val_mean_absolute_error: 16.5654\n",
      "Epoch 22/50\n",
      "323/323 [==============================] - 0s 118us/sample - loss: 389.3550 - mean_absolute_error: 17.1585 - val_loss: 332.3644 - val_mean_absolute_error: 16.2200\n",
      "Epoch 23/50\n",
      "323/323 [==============================] - 0s 115us/sample - loss: 364.5454 - mean_absolute_error: 16.6206 - val_loss: 319.4781 - val_mean_absolute_error: 15.8707\n",
      "Epoch 24/50\n",
      "323/323 [==============================] - 0s 118us/sample - loss: 358.2963 - mean_absolute_error: 16.4607 - val_loss: 306.8605 - val_mean_absolute_error: 15.5231\n",
      "Epoch 25/50\n",
      "323/323 [==============================] - 0s 185us/sample - loss: 350.0549 - mean_absolute_error: 16.1256 - val_loss: 294.4543 - val_mean_absolute_error: 15.1844\n",
      "Epoch 26/50\n",
      "323/323 [==============================] - 0s 212us/sample - loss: 331.8819 - mean_absolute_error: 15.7128 - val_loss: 281.8311 - val_mean_absolute_error: 14.8373\n",
      "Epoch 27/50\n",
      "323/323 [==============================] - 0s 218us/sample - loss: 323.5909 - mean_absolute_error: 15.5244 - val_loss: 269.2087 - val_mean_absolute_error: 14.4808\n",
      "Epoch 28/50\n",
      "323/323 [==============================] - 0s 168us/sample - loss: 307.9196 - mean_absolute_error: 15.0899 - val_loss: 256.3597 - val_mean_absolute_error: 14.1064\n",
      "Epoch 29/50\n",
      "323/323 [==============================] - 0s 108us/sample - loss: 289.0655 - mean_absolute_error: 14.5789 - val_loss: 243.9092 - val_mean_absolute_error: 13.7343\n",
      "Epoch 30/50\n",
      "323/323 [==============================] - 0s 101us/sample - loss: 288.2140 - mean_absolute_error: 14.5992 - val_loss: 232.2187 - val_mean_absolute_error: 13.3757\n",
      "Epoch 31/50\n",
      "323/323 [==============================] - 0s 92us/sample - loss: 262.3593 - mean_absolute_error: 13.7478 - val_loss: 219.6491 - val_mean_absolute_error: 12.9836\n",
      "Epoch 32/50\n",
      "323/323 [==============================] - 0s 93us/sample - loss: 266.2227 - mean_absolute_error: 13.5503 - val_loss: 207.9405 - val_mean_absolute_error: 12.6059\n",
      "Epoch 33/50\n",
      "323/323 [==============================] - 0s 96us/sample - loss: 242.9777 - mean_absolute_error: 12.9913 - val_loss: 196.8189 - val_mean_absolute_error: 12.2306\n",
      "Epoch 34/50\n",
      "323/323 [==============================] - 0s 89us/sample - loss: 227.5808 - mean_absolute_error: 12.7527 - val_loss: 185.6175 - val_mean_absolute_error: 11.8466\n",
      "Epoch 35/50\n",
      "323/323 [==============================] - 0s 92us/sample - loss: 233.7941 - mean_absolute_error: 12.7569 - val_loss: 175.1240 - val_mean_absolute_error: 11.4618\n",
      "Epoch 36/50\n",
      "323/323 [==============================] - 0s 112us/sample - loss: 209.0510 - mean_absolute_error: 11.9361 - val_loss: 165.4671 - val_mean_absolute_error: 11.0975\n",
      "Epoch 37/50\n",
      "323/323 [==============================] - 0s 99us/sample - loss: 203.6442 - mean_absolute_error: 11.8615 - val_loss: 156.4068 - val_mean_absolute_error: 10.7484\n",
      "Epoch 38/50\n",
      "323/323 [==============================] - 0s 127us/sample - loss: 195.3663 - mean_absolute_error: 11.6871 - val_loss: 147.4865 - val_mean_absolute_error: 10.3922\n",
      "Epoch 39/50\n",
      "323/323 [==============================] - 0s 140us/sample - loss: 193.8585 - mean_absolute_error: 11.6582 - val_loss: 139.2748 - val_mean_absolute_error: 10.0477\n",
      "Epoch 40/50\n",
      "323/323 [==============================] - 0s 141us/sample - loss: 179.0320 - mean_absolute_error: 11.1434 - val_loss: 131.8619 - val_mean_absolute_error: 9.7230\n",
      "Epoch 41/50\n",
      "323/323 [==============================] - 0s 148us/sample - loss: 178.5450 - mean_absolute_error: 10.9472 - val_loss: 124.4169 - val_mean_absolute_error: 9.3821\n",
      "Epoch 42/50\n",
      "323/323 [==============================] - 0s 146us/sample - loss: 166.2599 - mean_absolute_error: 10.4546 - val_loss: 116.8860 - val_mean_absolute_error: 9.0348\n",
      "Epoch 43/50\n",
      "323/323 [==============================] - 0s 99us/sample - loss: 151.6456 - mean_absolute_error: 9.9194 - val_loss: 110.1476 - val_mean_absolute_error: 8.7083\n",
      "Epoch 44/50\n",
      "323/323 [==============================] - 0s 91us/sample - loss: 145.6398 - mean_absolute_error: 9.7862 - val_loss: 104.2727 - val_mean_absolute_error: 8.4117\n",
      "Epoch 45/50\n",
      "323/323 [==============================] - 0s 95us/sample - loss: 144.6639 - mean_absolute_error: 9.8163 - val_loss: 99.3749 - val_mean_absolute_error: 8.1632\n",
      "Epoch 46/50\n",
      "323/323 [==============================] - 0s 142us/sample - loss: 138.1007 - mean_absolute_error: 9.6319 - val_loss: 94.1519 - val_mean_absolute_error: 7.8846\n",
      "Epoch 47/50\n",
      "323/323 [==============================] - 0s 88us/sample - loss: 146.8096 - mean_absolute_error: 9.8130 - val_loss: 89.8243 - val_mean_absolute_error: 7.6433\n"
     ]
    },
    {
     "name": "stdout",
     "output_type": "stream",
     "text": [
      "Epoch 48/50\n",
      "323/323 [==============================] - 0s 94us/sample - loss: 136.8551 - mean_absolute_error: 9.2996 - val_loss: 85.7512 - val_mean_absolute_error: 7.4069\n",
      "Epoch 49/50\n",
      "323/323 [==============================] - 0s 91us/sample - loss: 124.8400 - mean_absolute_error: 9.1616 - val_loss: 81.7915 - val_mean_absolute_error: 7.1644\n",
      "Epoch 50/50\n",
      "323/323 [==============================] - 0s 88us/sample - loss: 129.9768 - mean_absolute_error: 9.2384 - val_loss: 78.3691 - val_mean_absolute_error: 6.9540\n",
      "102/102 [==============================] - 0s 65us/sample - loss: 71.3065 - mean_absolute_error: 6.8688\n",
      "Test MAE: 6.868761\n"
     ]
    }
   ],
   "source": [
    "#Actually training the model\n",
    "history = model.fit(X_train, y_train, epochs=50, batch_size=32, validation_split=0.2)\n",
    "\n",
    "test_loss, test_mae = model.evaluate(X_test, y_test)\n",
    "print('Test MAE:', test_mae)"
   ]
  },
  {
   "cell_type": "code",
   "execution_count": 18,
   "id": "a4011773",
   "metadata": {},
   "outputs": [
    {
     "data": {
      "image/png": "[encoded data removed]",
      "text/plain": [
       "<Figure size 432x288 with 1 Axes>"
      ]
     },
     "metadata": {
      "needs_background": "light"
     },
     "output_type": "display_data"
    }
   ],
   "source": [
    "# Plot training history\n",
    "plt.plot(history.history['mean_absolute_error'])\n",
    "plt.plot(history.history['val_mean_absolute_error'])\n",
    "plt.title('Model MAE')\n",
    "plt.ylabel('MAE')\n",
    "plt.xlabel('Epoch')\n",
    "plt.legend(['train', 'validation'], loc='upper right')\n",
    "plt.show()"
   ]
  },
  {
   "cell_type": "code",
   "execution_count": null,
   "id": "620e6cd5",
   "metadata": {},
   "outputs": [],
   "source": []
  }
 ],
 "metadata": {
  "kernelspec": {
   "display_name": "Python 3",
   "language": "python",
   "name": "python3"
  },
  "language_info": {
   "codemirror_mode": {
    "name": "ipython",
    "version": 3
   },
   "file_extension": ".py",
   "mimetype": "text/x-python",
   "name": "python",
   "nbconvert_exporter": "python",
   "pygments_lexer": "ipython3",
   "version": "3.6.15"
  }
 },
 "nbformat": 4,
 "nbformat_minor": 5
}
